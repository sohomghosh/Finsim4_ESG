{
  "nbformat": 4,
  "nbformat_minor": 0,
  "metadata": {
    "colab": {
      "name": "FinSim-4_text_extraction_from_pdfs.ipynb",
      "provenance": [],
      "authorship_tag": "ABX9TyNNFk79ShQaHbzN/SmPZNQE",
      "include_colab_link": true
    },
    "kernelspec": {
      "name": "python3",
      "display_name": "Python 3"
    },
    "language_info": {
      "name": "python"
    }
  },
  "cells": [
    {
      "cell_type": "markdown",
      "metadata": {
        "id": "view-in-github",
        "colab_type": "text"
      },
      "source": [
        "<a href=\"https://colab.research.google.com/github/sohomghosh/Finsim4_ESG/blob/main/FinSim_4_text_extraction_from_pdfs.ipynb\" target=\"_parent\"><img src=\"https://colab.research.google.com/assets/colab-badge.svg\" alt=\"Open In Colab\"/></a>"
      ]
    },
    {
      "cell_type": "code",
      "execution_count": null,
      "metadata": {
        "colab": {
          "base_uri": "https://localhost:8080/"
        },
        "id": "Z4rrrrmeJcTw",
        "outputId": "57ab95d7-db0b-47cc-e540-48ad4844a5fa"
      },
      "outputs": [
        {
          "output_type": "stream",
          "name": "stdout",
          "text": [
            "/usr/local/lib/python3.7/dist-packages/gdown/cli.py:131: FutureWarning: Option `--id` was deprecated in version 4.3.1 and will be removed in 5.0. You don't need to pass it anymore to use a file ID.\n",
            "  category=FutureWarning,\n",
            "Downloading...\n",
            "From: https://drive.google.com/uc?id=15lAdqgQJSHylO1Kktj729PtT1oDin5cZ\n",
            "To: /content/FinSim-ESG training set.zip\n",
            "100% 1.08G/1.08G [00:32<00:00, 33.4MB/s]\n"
          ]
        }
      ],
      "source": [
        "!gdown --id 15lAdqgQJSHylO1Kktj729PtT1oDin5cZ"
      ]
    },
    {
      "cell_type": "code",
      "source": [
        "!mkdir /content/FinSim-4_train"
      ],
      "metadata": {
        "id": "iftQ8wyTKoM5"
      },
      "execution_count": null,
      "outputs": []
    },
    {
      "cell_type": "code",
      "source": [
        "%%capture\n",
        "!unzip \"FinSim-ESG training set.zip\" -d /content/FinSim-4_train"
      ],
      "metadata": {
        "id": "dNPBpcm9KGCv"
      },
      "execution_count": null,
      "outputs": []
    },
    {
      "cell_type": "code",
      "source": [
        "import os"
      ],
      "metadata": {
        "id": "YXFdV4f-KfkC"
      },
      "execution_count": null,
      "outputs": []
    },
    {
      "cell_type": "code",
      "source": [
        "!mkdir /content/txt_data/"
      ],
      "metadata": {
        "id": "SlFhpVnRSbbJ"
      },
      "execution_count": null,
      "outputs": []
    },
    {
      "cell_type": "code",
      "source": [
        "!pip install pdfplumber"
      ],
      "metadata": {
        "colab": {
          "base_uri": "https://localhost:8080/",
          "height": 661
        },
        "id": "ozV7G69oT5mL",
        "outputId": "c39f46da-7503-49f9-9ebe-e6c351edae7a"
      },
      "execution_count": null,
      "outputs": [
        {
          "output_type": "stream",
          "name": "stdout",
          "text": [
            "Collecting pdfplumber\n",
            "  Downloading pdfplumber-0.6.0.tar.gz (46 kB)\n",
            "\u001b[K     |████████████████████████████████| 46 kB 4.7 MB/s \n",
            "\u001b[?25hCollecting pdfminer.six==20211012\n",
            "  Downloading pdfminer.six-20211012-py3-none-any.whl (5.6 MB)\n",
            "\u001b[K     |████████████████████████████████| 5.6 MB 45.5 MB/s \n",
            "\u001b[?25hCollecting Pillow>=8.4\n",
            "  Downloading Pillow-9.1.0-cp37-cp37m-manylinux_2_17_x86_64.manylinux2014_x86_64.whl (4.3 MB)\n",
            "\u001b[K     |████████████████████████████████| 4.3 MB 53.5 MB/s \n",
            "\u001b[?25hCollecting Wand>=0.6.7\n",
            "  Downloading Wand-0.6.7-py2.py3-none-any.whl (139 kB)\n",
            "\u001b[K     |████████████████████████████████| 139 kB 45.8 MB/s \n",
            "\u001b[?25hRequirement already satisfied: chardet in /usr/local/lib/python3.7/dist-packages (from pdfminer.six==20211012->pdfplumber) (3.0.4)\n",
            "Collecting cryptography\n",
            "  Downloading cryptography-36.0.2-cp36-abi3-manylinux_2_24_x86_64.whl (3.6 MB)\n",
            "\u001b[K     |████████████████████████████████| 3.6 MB 53.2 MB/s \n",
            "\u001b[?25hRequirement already satisfied: cffi>=1.12 in /usr/local/lib/python3.7/dist-packages (from cryptography->pdfminer.six==20211012->pdfplumber) (1.15.0)\n",
            "Requirement already satisfied: pycparser in /usr/local/lib/python3.7/dist-packages (from cffi>=1.12->cryptography->pdfminer.six==20211012->pdfplumber) (2.21)\n",
            "Building wheels for collected packages: pdfplumber\n",
            "  Building wheel for pdfplumber (setup.py) ... \u001b[?25l\u001b[?25hdone\n",
            "  Created wheel for pdfplumber: filename=pdfplumber-0.6.0-py3-none-any.whl size=33688 sha256=99dc9fa9615afb992763265594f5ec022f28966349639c0a4042cbd5edfd7ca7\n",
            "  Stored in directory: /root/.cache/pip/wheels/58/56/fe/2e93d842ffa9ea97746c1ab253d43502ed61c0689361a0224e\n",
            "Successfully built pdfplumber\n",
            "Installing collected packages: cryptography, Wand, Pillow, pdfminer.six, pdfplumber\n",
            "  Attempting uninstall: Pillow\n",
            "    Found existing installation: Pillow 7.1.2\n",
            "    Uninstalling Pillow-7.1.2:\n",
            "      Successfully uninstalled Pillow-7.1.2\n",
            "\u001b[31mERROR: pip's dependency resolver does not currently take into account all the packages that are installed. This behaviour is the source of the following dependency conflicts.\n",
            "albumentations 0.1.12 requires imgaug<0.2.7,>=0.2.5, but you have imgaug 0.2.9 which is incompatible.\u001b[0m\n",
            "Successfully installed Pillow-9.1.0 Wand-0.6.7 cryptography-36.0.2 pdfminer.six-20211012 pdfplumber-0.6.0\n"
          ]
        },
        {
          "output_type": "display_data",
          "data": {
            "application/vnd.colab-display-data+json": {
              "pip_warning": {
                "packages": [
                  "PIL"
                ]
              }
            }
          },
          "metadata": {}
        }
      ]
    },
    {
      "cell_type": "markdown",
      "source": [
        "# pdfplumber works"
      ],
      "metadata": {
        "id": "jptVjbNJXGc8"
      }
    },
    {
      "cell_type": "code",
      "source": [
        "import pdfplumber\n",
        "\n",
        "\n",
        "\n",
        "pdf_loc = '/content/FinSim-4_train/FinSim-ESG training set/data/English_reports/'\n",
        "txt_loc = '/content/txt_data/'\n",
        "for file in os.listdir('/content/FinSim-4_train/FinSim-ESG training set/data/English_reports'):\n",
        "  pdf = pdfplumber.open(pdf_loc + file)\n",
        "  txt = ''\n",
        "  for page in pdf.pages:  \n",
        "    new_txt = page.extract_text()\n",
        "    txt = txt + '\\n' + new_txt\n",
        "  open(txt_loc + file[:-4]+\".txt\", 'w').write(txt)\n",
        "  pdf.close()"
      ],
      "metadata": {
        "id": "DI8LhIL1SpSv"
      },
      "execution_count": null,
      "outputs": []
    },
    {
      "cell_type": "code",
      "source": [
        "!zip -r finsim4esg_txt.zip /content/txt_data/"
      ],
      "metadata": {
        "id": "DdEZlyBCUn4m",
        "colab": {
          "base_uri": "https://localhost:8080/"
        },
        "outputId": "06070e63-2cd2-4d7f-888c-69f3a2226f87"
      },
      "execution_count": null,
      "outputs": [
        {
          "output_type": "stream",
          "name": "stdout",
          "text": [
            "  adding: content/txt_data/ (stored 0%)\n",
            "  adding: content/txt_data/sustainability-report-2019.txt (deflated 69%)\n",
            "  adding: content/txt_data/carneo_ar2020.txt (deflated 66%)\n",
            "  adding: content/txt_data/annual-report-2019-aegon-investment-management-b.v..txt (deflated 70%)\n",
            "  adding: content/txt_data/ASX_ARG_2019.txt (deflated 70%)\n",
            "  adding: content/txt_data/annual-report-authorised.txt (deflated 68%)\n",
            "  adding: content/txt_data/SAM Holding - Política Global de Sostenibilidad ENG 2020_vf_pub.txt (deflated 90%)\n",
            "  adding: content/txt_data/Edelweiss AMC_AR 20-21_05072021_045215_PM.txt (deflated 71%)\n",
            "  adding: content/txt_data/jpmc-cr-climate-report-2019.txt (deflated 66%)\n",
            "  adding: content/txt_data/nibc-bank_2018.txt (deflated 72%)\n",
            "  adding: content/txt_data/uk-gender-ethnicity-report-2021.txt (deflated 64%)\n",
            "  adding: content/txt_data/GLP_ESGreport-EN.txt (deflated 68%)\n",
            "  adding: content/txt_data/FischAssetManagement_Sustainability_report.txt (deflated 61%)\n",
            "  adding: content/txt_data/EdR-Private-Equity-Sustainability-Report-2019-EN.txt (deflated 63%)\n",
            "  adding: content/txt_data/OSTRUM_RAPPORT.RSE_.2020_EN_0.txt (deflated 64%)\n",
            "  adding: content/txt_data/ESG-Report-for-website.txt (deflated 63%)\n",
            "  adding: content/txt_data/2020_Annual_ESG_Report.txt (deflated 66%)\n",
            "  adding: content/txt_data/TSX_ACD_2019.txt (deflated 75%)\n",
            "  adding: content/txt_data/boards-oversight-of-racial-and-ethnic-diversity.txt (deflated 66%)\n",
            "  adding: content/txt_data/PRI-Investor-Statement-of-Support-for-EU-Corporate-Sustainability-Reporting-Directive.txt (deflated 57%)\n",
            "  adding: content/txt_data/en_annual_report_2020.txt (deflated 70%)\n",
            "  adding: content/txt_data/20200811-Deutsche-Bank-Climate-Statement.txt (deflated 63%)\n",
            "  adding: content/txt_data/AR.txt (deflated 69%)\n",
            "  adding: content/txt_data/nikko_am_2019_sustainability_report_en.txt (deflated 65%)\n",
            "  adding: content/txt_data/SR2020.txt (deflated 66%)\n",
            "  adding: content/txt_data/200220-e9813f7c35.txt (deflated 69%)\n",
            "  adding: content/txt_data/csg-ar-2020-en.txt (deflated 72%)\n",
            "  adding: content/txt_data/Nokia_People_and_Planet_Report_2019.txt (deflated 67%)\n",
            "  adding: content/txt_data/2020-people-strategy-report.txt (deflated 64%)\n",
            "  adding: content/txt_data/ubs-biodiversity-statement-2021.txt (deflated 59%)\n",
            "  adding: content/txt_data/Banco BPM - Pillar 3 2018.txt (deflated 69%)\n",
            "  adding: content/txt_data/SGS 2020 Corporate Sustainability Report.txt (deflated 64%)\n",
            "  adding: content/txt_data/664_11_a4_wmc_new.txt (deflated 65%)\n",
            "  adding: content/txt_data/c8c27efd3ea81ca86c1b589e1096fb80_robeco-carbon-report-2020_tcm17-29927.txt (deflated 58%)\n",
            "  adding: content/txt_data/QUAERO-CAPITAL-Annual-Sustainability-Report_2020.txt (deflated 65%)\n",
            "  adding: content/txt_data/version-UK-Rapport-ESG-VF.txt (deflated 67%)\n",
            "  adding: content/txt_data/138-RPA-ENG-ODDO BHF US Mid Cap-20191231.txt (deflated 75%)\n",
            "  adding: content/txt_data/202104-RapportESGEllipsisAM-GB.txt (deflated 68%)\n",
            "  adding: content/txt_data/ASX_ARG_2018.txt (deflated 70%)\n",
            "  adding: content/txt_data/2020-enterprise-esg-report.pdf.coredownload.txt (deflated 67%)\n",
            "  adding: content/txt_data/2020-sustainability-report.txt (deflated 65%)\n",
            "  adding: content/txt_data/amc-annual-report-1819.txt (deflated 75%)\n",
            "  adding: content/txt_data/fy2020-lg-tcfd-report.txt (deflated 67%)\n",
            "  adding: content/txt_data/OTC_HLAN_2017.txt (deflated 58%)\n",
            "  adding: content/txt_data/climate_report_2020.txt (deflated 65%)\n",
            "  adding: content/txt_data/TSX_NA_2017.txt (deflated 73%)\n",
            "  adding: content/txt_data/Stewardship-report.txt (deflated 66%)\n",
            "  adding: content/txt_data/where-we-stand.txt (deflated 64%)\n",
            "  adding: content/txt_data/NYSE_NHS_2016.txt (deflated 62%)\n",
            "  adding: content/txt_data/ASX_NGI_2019.txt (deflated 71%)\n",
            "  adding: content/txt_data/Annual Report 2020-2120210720-115728.txt (deflated 69%)\n",
            "  adding: content/txt_data/state-street-esg-report-04-2021.txt (deflated 67%)\n",
            "  adding: content/txt_data/BNP_Paribas_REIM_ESG_Report_2020_FINAL.txt (deflated 64%)\n",
            "  adding: content/txt_data/Aurum-ESG-Impact-Report-2021-2.txt (deflated 60%)\n",
            "  adding: content/txt_data/sustainability_report_2020_en.txt (deflated 69%)\n",
            "  adding: content/txt_data/blk-carbon-footprint.txt (deflated 59%)\n",
            "  adding: content/txt_data/the-global-food-system-identifying-sustainable-solutions.txt (deflated 64%)\n",
            "  adding: content/txt_data/5_L_T Gilt Fund.txt (deflated 72%)\n",
            "  adding: content/txt_data/Amundi Stewardship Report - 2020.txt (deflated 66%)\n",
            "  adding: content/txt_data/2019-heath-for-humanity-report-johnson-johnson.txt (deflated 68%)\n",
            "  adding: content/txt_data/2020-Report-Climat-Sustainability-Andera-Partners.txt (deflated 60%)\n",
            "  adding: content/txt_data/NYSE_ARE_2019.txt (deflated 72%)\n",
            "  adding: content/txt_data/Aurum-ESG-Impact-Report-2021-2 (1).txt (deflated 60%)\n",
            "  adding: content/txt_data/GIBAM_ESGreport2020.txt (deflated 66%)\n",
            "  adding: content/txt_data/csr-sr-2020.txt (deflated 67%)\n",
            "  adding: content/txt_data/PRU_ESG20_PDF_v11.txt (deflated 64%)\n",
            "  adding: content/txt_data/20210304_SUSI-Sustainability-Report_final_for_web.txt (deflated 62%)\n",
            "  adding: content/txt_data/Annual report 2019.txt (deflated 75%)\n",
            "  adding: content/txt_data/blackrock-2020-annual-report.txt (deflated 68%)\n",
            "  adding: content/txt_data/[145375]-[CD]-2020 Annual report and accounts FINAL _web.txt (deflated 78%)\n",
            "  adding: content/txt_data/fil_csr_2021_final_082021.txt (deflated 64%)\n",
            "  adding: content/txt_data/docu-palm-oil-position-paper.txt (deflated 29%)\n",
            "  adding: content/txt_data/tcfd-report-2021-blkinc.txt (deflated 69%)\n",
            "  adding: content/txt_data/CSR-report-2021.txt (deflated 63%)\n",
            "  adding: content/txt_data/DowChemicalSustainability_Report_2019.txt (deflated 66%)\n",
            "  adding: content/txt_data/2020SustainabilityReportEN_all.txt (deflated 69%)\n",
            "  adding: content/txt_data/TSX_NA_2019.txt (deflated 72%)\n",
            "  adding: content/txt_data/csg-sr-2020-en.txt (deflated 68%)\n",
            "  adding: content/txt_data/NYSE_NHS_2015.txt (deflated 61%)\n",
            "  adding: content/txt_data/2020_RA_EN.txt (deflated 63%)\n",
            "  adding: content/txt_data/20200317_DWS Non-Financial Report 2019_EN.txt (deflated 69%)\n",
            "  adding: content/txt_data/sustainability-report-pegcb.txt (deflated 59%)\n",
            "  adding: content/txt_data/ubs-climate-report-2021-en.txt (deflated 76%)\n",
            "  adding: content/txt_data/879eee033f4419fc0e362fc3a1aadf83_robeco-sustainability-report-2020-online_tcm17-29923.txt (deflated 66%)\n",
            "  adding: content/txt_data/sustainability_report2020.txt (deflated 69%)\n",
            "  adding: content/txt_data/NYSE_NHS_2017.txt (deflated 63%)\n",
            "  adding: content/txt_data/OTC_HLAN_2018.txt (deflated 59%)\n",
            "  adding: content/txt_data/allianzgi-2020-sustainability-report-updated.txt (deflated 68%)\n",
            "  adding: content/txt_data/ASX_NGI_2018.txt (deflated 71%)\n",
            "  adding: content/txt_data/WAM-Global-Annual-Report-FY21_website.txt (deflated 71%)\n",
            "  adding: content/txt_data/SCOR-ESG2021-DP-EN_01.txt (deflated 65%)\n",
            "  adding: content/txt_data/corporate-sustainability-report-2021.txt (deflated 64%)\n",
            "  adding: content/txt_data/VFOCUSD_Annual_EN_20210731.txt (deflated 70%)\n",
            "  adding: content/txt_data/EUROPA Sustainability Report 2020.txt (deflated 66%)\n",
            "  adding: content/txt_data/usd-2020-slc-management-sustainability-report.txt (deflated 65%)\n",
            "  adding: content/txt_data/ESG-CR_eng_INT.txt (deflated 67%)\n",
            "  adding: content/txt_data/2020 Climate Report TCFD – Article 173.txt (deflated 66%)\n",
            "  adding: content/txt_data/Ashmore_FY2020-21_annual_report.txt (deflated 72%)\n",
            "  adding: content/txt_data/ESG_Data-2020.txt (deflated 63%)\n",
            "  adding: content/txt_data/OTC_HLAN_2019.txt (deflated 60%)\n",
            "  adding: content/txt_data/esg-scoring-its-all-relative.txt (deflated 87%)\n",
            "  adding: content/txt_data/Vauban-IP-_-Sustainability-Report-2019.txt (deflated 59%)\n",
            "  adding: content/txt_data/global-core-real-ar-2021.txt (deflated 72%)\n",
            "  adding: content/txt_data/1512719.txt (deflated 66%)\n",
            "  adding: content/txt_data/App_Data-Import-alfi-ALFI-Annual-Report-2020-2021.txt (deflated 66%)\n",
            "  adding: content/txt_data/fidelity-gender-pay-gap-report-april-2020-to-april-2021.txt (deflated 59%)\n",
            "  adding: content/txt_data/21invest_report2020_final_web.txt (deflated 67%)\n",
            "  adding: content/txt_data/Banco BPM - Non-Financial Report 2018.txt (deflated 65%)\n",
            "  adding: content/txt_data/docu-annu-2020-riam.txt (deflated 71%)\n",
            "  adding: content/txt_data/[121760]-[CD]-2018-Sustainability-Report-Final.txt (deflated 64%)\n",
            "  adding: content/txt_data/ASX_NGI_2020.txt (deflated 71%)\n",
            "  adding: content/txt_data/TSX_ACD_2017.txt (deflated 68%)\n",
            "  adding: content/txt_data/Allianz_Group_Sustainability_Report_2018-web.txt (deflated 66%)\n",
            "  adding: content/txt_data/inv-stew-annual-report-2020.txt (deflated 69%)\n",
            "  adding: content/txt_data/SGS 2019 Corporate Sustainability Report.txt (deflated 64%)\n",
            "  adding: content/txt_data/BAM_2020_ESG_Report_Final.txt (deflated 68%)\n",
            "  adding: content/txt_data/bam-annual-report-2020-v4.txt (deflated 75%)\n",
            "  adding: content/txt_data/randa2020.txt (deflated 66%)\n",
            "  adding: content/txt_data/2009_MS_Sustainability_Report.txt (deflated 65%)\n",
            "  adding: content/txt_data/NYSE_ARE_2017.txt (deflated 72%)\n",
            "  adding: content/txt_data/document.txt (stored 0%)\n",
            "  adding: content/txt_data/sustainability-report_en.txt (deflated 65%)\n",
            "  adding: content/txt_data/ABN_AMRO_Sustainability_Facts_and_Figures_2017.txt (deflated 62%)\n",
            "  adding: content/txt_data/TKO-SR-2020_including_update_to_June_2021.txt (deflated 65%)\n",
            "  adding: content/txt_data/Bnk of Queensland-annual-report-2019.txt (deflated 71%)\n",
            "  adding: content/txt_data/2021-06-29-bnp-paribas-csr-strategy.txt (deflated 56%)\n",
            "  adding: content/txt_data/pwc-sustainable-finance-era-asset-managers.txt (deflated 66%)\n",
            "  adding: content/txt_data/2020 Sustainability Report (1).txt (deflated 68%)\n",
            "  adding: content/txt_data/CDP_Climate_Change_Report-2020.txt (deflated 76%)\n",
            "  adding: content/txt_data/amc annual report - 2020 - 21.txt (deflated 70%)\n",
            "  adding: content/txt_data/fy2020-lg-gender-pay-gap-report.txt (deflated 62%)\n",
            "  adding: content/txt_data/nibc-bank_2019.txt (deflated 72%)\n",
            "  adding: content/txt_data/taml_financials_2020-2021.txt (deflated 88%)\n",
            "  adding: content/txt_data/entire-merck-sr20.txt (deflated 67%)\n",
            "  adding: content/txt_data/annual-report-for-axis-asset-management-company-limited-for-the-year-ended-2020-2021.txt (deflated 58%)\n",
            "  adding: content/txt_data/nibc-bank_2017.txt (deflated 72%)\n",
            "  adding: content/txt_data/ASX_ARG_2020.txt (deflated 70%)\n",
            "  adding: content/txt_data/deutsche-bank-cr-report-2016.txt (deflated 64%)\n",
            "  adding: content/txt_data/sustainability_report_2021.txt (deflated 62%)\n",
            "  adding: content/txt_data/bnpp_rhg_bilansa_eng.txt (deflated 62%)\n",
            "  adding: content/txt_data/EN_Rapport 173 2018_Lyxor.txt (deflated 64%)\n",
            "  adding: content/txt_data/annualsustainableinvestmentreport2020_en.txt (deflated 64%)\n",
            "  adding: content/txt_data/esg-report-2017.txt (deflated 62%)\n",
            "  adding: content/txt_data/Norvestor-Sustainability-Report-2021_website.txt (deflated 68%)\n",
            "  adding: content/txt_data/.ipynb_checkpoints/ (stored 0%)\n",
            "  adding: content/txt_data/Simon-Kucher_Global_Sustainability_Study_2021.txt (deflated 73%)\n",
            "  adding: content/txt_data/ABN_AMRO_Integrated_Annual_Review_2017.txt (deflated 65%)\n",
            "  adding: content/txt_data/ClimateSHP_1841017_092021_online.txt (deflated 71%)\n",
            "  adding: content/txt_data/en_2020_randco_corporate_responsibility_report.txt (deflated 67%)\n",
            "  adding: content/txt_data/NYSE_ARE_2018.txt (deflated 72%)\n",
            "  adding: content/txt_data/TSX_NA_2018.txt (deflated 72%)\n",
            "  adding: content/txt_data/Amundi - CSR Report 2020.txt (deflated 66%)\n",
            "  adding: content/txt_data/CS2980_SC_Annual_Sustainable_Investment_Report_2020_Public_v11.txt (deflated 65%)\n",
            "  adding: content/txt_data/axa-im-ESG-Standards-Policy-EN-nov-21.txt (deflated 60%)\n",
            "  adding: content/txt_data/schroders-annual-report-and-accounts-2020.txt (deflated 70%)\n",
            "  adding: content/txt_data/ARA-Sustainability-Report-2019.txt (deflated 69%)\n",
            "  adding: content/txt_data/environment-sustainability-policy-statement.pdf.coredownload.txt (deflated 52%)\n",
            "  adding: content/txt_data/2020_sustainable_development_report (1).txt (deflated 87%)\n",
            "  adding: content/txt_data/2020_sustainable_development_report.txt (deflated 87%)\n",
            "  adding: content/txt_data/blk-esg-investment-statement-web.txt (deflated 63%)\n",
            "  adding: content/txt_data/ESG-and-Impact-Report-DEMETER-2021.txt (deflated 66%)\n",
            "  adding: content/txt_data/sustainable-investment-report-2021-uk.txt (deflated 66%)\n",
            "  adding: content/txt_data/2017-csr-report.pdf.coredownload.txt (deflated 66%)\n",
            "  adding: content/txt_data/[122814]-[CD]-Sustainability-Report-2019.txt (deflated 65%)\n",
            "  adding: content/txt_data/ESG-RI-AR_NAM_eng_INT.txt (deflated 65%)\n",
            "  adding: content/txt_data/position-corporate-sustainability-reporting.txt (deflated 62%)\n",
            "  adding: content/txt_data/FRA_372_Ostrum-Souverains-Euro_31-03-2020_eng_DE.txt (deflated 72%)\n",
            "  adding: content/txt_data/ubs-human-rights-statement-en-mar-2021.txt (deflated 61%)\n",
            "  adding: content/txt_data/CDP BASF 2018.txt (deflated 77%)\n",
            "  adding: content/txt_data/2020-enterprise-esg-report.pdf.coredownload(1).txt (deflated 67%)\n",
            "  adding: content/txt_data/exane-bnp-paribas-esg-conference-2021.txt (deflated 56%)\n",
            "  adding: content/txt_data/Sustainable-Investment-2020-Report-accessible.txt (deflated 69%)\n",
            "  adding: content/txt_data/GAM_Sustainability_Report.txt (deflated 63%)\n",
            "  adding: content/txt_data/Vauban-IP-_-Sustainability-Report-2019 (1).txt (deflated 59%)\n",
            "  adding: content/txt_data/Ashmore Sustainability Report 2020 6.txt (deflated 67%)\n",
            "  adding: content/txt_data/esg-brochure_2020(en).txt (deflated 62%)\n",
            "  adding: content/txt_data/tcfd.txt (deflated 67%)\n",
            "  adding: content/txt_data/ESG_Themes_Take_Center_Stage_May_2021.txt (deflated 59%)\n",
            "  adding: content/txt_data/annual-sustainability-report-2019-v8.txt (deflated 64%)\n",
            "  adding: content/txt_data/northern-trust-annual-report-2019.txt (deflated 72%)\n",
            "  adding: content/txt_data/2020-bef-annual-report.txt (deflated 77%)\n",
            "  adding: content/txt_data/csr_highlights_-_esg_meeting_5_june_2020.txt (deflated 56%)\n",
            "  adding: content/txt_data/ryxlg_sr20_interactive_pdf_19521-v2.txt (deflated 66%)\n",
            "  adding: content/txt_data/all.txt (deflated 66%)\n",
            "  adding: content/txt_data/2020 Sustainability Report.txt (deflated 68%)\n",
            "  adding: content/txt_data/2021-diversity-and-inclusion-report.txt (deflated 65%)\n",
            "  adding: content/txt_data/BASF_Report_2018.txt (deflated 71%)\n",
            "  adding: content/txt_data/aegon-integrated-annual-report-2020.txt (deflated 71%)\n",
            "  adding: content/txt_data/AMUNDI-RA2020-EN_02.txt (deflated 64%)\n",
            "  adding: content/txt_data/sustainable-investing.txt (deflated 68%)\n",
            "  adding: content/txt_data/TSX_ACD_2018.txt (deflated 74%)\n",
            "  adding: content/txt_data/1627392684-Annual-Report-2021.txt (deflated 71%)\n"
          ]
        }
      ]
    }
  ]
}